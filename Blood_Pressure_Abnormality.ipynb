{
  "nbformat": 4,
  "nbformat_minor": 0,
  "metadata": {
    "colab": {
      "name": "Blood_Pressure_Abnormality.ipynb",
      "provenance": [],
      "collapsed_sections": [],
      "authorship_tag": "ABX9TyOZifxZw53REvn5ou220Pg0",
      "include_colab_link": true
    },
    "kernelspec": {
      "name": "python3",
      "display_name": "Python 3"
    }
  },
  "cells": [
    {
      "cell_type": "markdown",
      "metadata": {
        "id": "view-in-github",
        "colab_type": "text"
      },
      "source": [
        "<a href=\"https://colab.research.google.com/github/smit977/Linear_Regression-Problem-solving-and-Prediction-/blob/master/Blood_Pressure_Abnormality.ipynb\" target=\"_parent\"><img src=\"https://colab.research.google.com/assets/colab-badge.svg\" alt=\"Open In Colab\"/></a>"
      ]
    },
    {
      "cell_type": "code",
      "metadata": {
        "id": "w4n3GQ-bMH8D",
        "outputId": "698773f0-983e-4bb6-f78b-24709f263664",
        "colab": {
          "base_uri": "https://localhost:8080/"
        }
      },
      "source": [
        "from google.colab import drive\n",
        "drive.mount('/content/drive')"
      ],
      "execution_count": 1,
      "outputs": [
        {
          "output_type": "stream",
          "text": [
            "Drive already mounted at /content/drive; to attempt to forcibly remount, call drive.mount(\"/content/drive\", force_remount=True).\n"
          ],
          "name": "stdout"
        }
      ]
    },
    {
      "cell_type": "code",
      "metadata": {
        "id": "1F5Q4ro-MVQ4"
      },
      "source": [
        "# Data Collection\n",
        "\n",
        "import pandas as pd\n",
        "import numpy as np\n",
        "data= pd.read_csv(r\"/content/drive/My Drive/Colab/Patient_with_abnormal_bloodpressure.csv\")\n",
        "# pd.set_option('display.max_columns', None,'display.max_rows',None)\n"
      ],
      "execution_count": 2,
      "outputs": []
    },
    {
      "cell_type": "code",
      "metadata": {
        "id": "Eo8DwaPYMqaF",
        "outputId": "2e0db190-c74c-4c73-99d2-d3c0e829666b",
        "colab": {
          "base_uri": "https://localhost:8080/",
          "height": 422
        }
      },
      "source": [
        "data.replace(r'^\\s*$', np.NaN, regex=True,inplace=True)\n",
        "data\n"
      ],
      "execution_count": 3,
      "outputs": [
        {
          "output_type": "execute_result",
          "data": {
            "text/html": [
              "<div>\n",
              "<style scoped>\n",
              "    .dataframe tbody tr th:only-of-type {\n",
              "        vertical-align: middle;\n",
              "    }\n",
              "\n",
              "    .dataframe tbody tr th {\n",
              "        vertical-align: top;\n",
              "    }\n",
              "\n",
              "    .dataframe thead th {\n",
              "        text-align: right;\n",
              "    }\n",
              "</style>\n",
              "<table border=\"1\" class=\"dataframe\">\n",
              "  <thead>\n",
              "    <tr style=\"text-align: right;\">\n",
              "      <th></th>\n",
              "      <th>Patient_Number</th>\n",
              "      <th>Blood_Pressure_Abnormality</th>\n",
              "      <th>Level_of_Hemoglobin</th>\n",
              "      <th>Genetic_Pedigree_Coefficient</th>\n",
              "      <th>Age</th>\n",
              "      <th>BMI</th>\n",
              "      <th>Sex</th>\n",
              "      <th>Pregnancy</th>\n",
              "      <th>Smoking</th>\n",
              "      <th>Physical_activity</th>\n",
              "      <th>salt_content_in_the_diet</th>\n",
              "      <th>alcohol_consumption_per_day</th>\n",
              "      <th>Level_of_Stress</th>\n",
              "      <th>Chronic_kidney_disease</th>\n",
              "      <th>Adrenal_and_thyroid_disorders</th>\n",
              "    </tr>\n",
              "  </thead>\n",
              "  <tbody>\n",
              "    <tr>\n",
              "      <th>0</th>\n",
              "      <td>1</td>\n",
              "      <td>1</td>\n",
              "      <td>11.28</td>\n",
              "      <td>0.90</td>\n",
              "      <td>34</td>\n",
              "      <td>23</td>\n",
              "      <td>1</td>\n",
              "      <td>1.0</td>\n",
              "      <td>0</td>\n",
              "      <td>45961</td>\n",
              "      <td>48071</td>\n",
              "      <td>NaN</td>\n",
              "      <td>2</td>\n",
              "      <td>1</td>\n",
              "      <td>1</td>\n",
              "    </tr>\n",
              "    <tr>\n",
              "      <th>1</th>\n",
              "      <td>2</td>\n",
              "      <td>0</td>\n",
              "      <td>9.75</td>\n",
              "      <td>0.23</td>\n",
              "      <td>54</td>\n",
              "      <td>33</td>\n",
              "      <td>1</td>\n",
              "      <td>NaN</td>\n",
              "      <td>0</td>\n",
              "      <td>26106</td>\n",
              "      <td>25333</td>\n",
              "      <td>205.0</td>\n",
              "      <td>3</td>\n",
              "      <td>0</td>\n",
              "      <td>0</td>\n",
              "    </tr>\n",
              "    <tr>\n",
              "      <th>2</th>\n",
              "      <td>3</td>\n",
              "      <td>1</td>\n",
              "      <td>10.79</td>\n",
              "      <td>0.91</td>\n",
              "      <td>70</td>\n",
              "      <td>49</td>\n",
              "      <td>0</td>\n",
              "      <td>NaN</td>\n",
              "      <td>0</td>\n",
              "      <td>9995</td>\n",
              "      <td>29465</td>\n",
              "      <td>67.0</td>\n",
              "      <td>2</td>\n",
              "      <td>1</td>\n",
              "      <td>0</td>\n",
              "    </tr>\n",
              "    <tr>\n",
              "      <th>3</th>\n",
              "      <td>4</td>\n",
              "      <td>0</td>\n",
              "      <td>11.00</td>\n",
              "      <td>0.43</td>\n",
              "      <td>71</td>\n",
              "      <td>50</td>\n",
              "      <td>0</td>\n",
              "      <td>NaN</td>\n",
              "      <td>0</td>\n",
              "      <td>10635</td>\n",
              "      <td>7439</td>\n",
              "      <td>242.0</td>\n",
              "      <td>1</td>\n",
              "      <td>1</td>\n",
              "      <td>0</td>\n",
              "    </tr>\n",
              "    <tr>\n",
              "      <th>4</th>\n",
              "      <td>5</td>\n",
              "      <td>1</td>\n",
              "      <td>14.17</td>\n",
              "      <td>0.83</td>\n",
              "      <td>52</td>\n",
              "      <td>19</td>\n",
              "      <td>0</td>\n",
              "      <td>NaN</td>\n",
              "      <td>0</td>\n",
              "      <td>15619</td>\n",
              "      <td>49644</td>\n",
              "      <td>397.0</td>\n",
              "      <td>2</td>\n",
              "      <td>0</td>\n",
              "      <td>0</td>\n",
              "    </tr>\n",
              "    <tr>\n",
              "      <th>...</th>\n",
              "      <td>...</td>\n",
              "      <td>...</td>\n",
              "      <td>...</td>\n",
              "      <td>...</td>\n",
              "      <td>...</td>\n",
              "      <td>...</td>\n",
              "      <td>...</td>\n",
              "      <td>...</td>\n",
              "      <td>...</td>\n",
              "      <td>...</td>\n",
              "      <td>...</td>\n",
              "      <td>...</td>\n",
              "      <td>...</td>\n",
              "      <td>...</td>\n",
              "      <td>...</td>\n",
              "    </tr>\n",
              "    <tr>\n",
              "      <th>1995</th>\n",
              "      <td>1996</td>\n",
              "      <td>1</td>\n",
              "      <td>10.14</td>\n",
              "      <td>0.02</td>\n",
              "      <td>69</td>\n",
              "      <td>26</td>\n",
              "      <td>1</td>\n",
              "      <td>NaN</td>\n",
              "      <td>1</td>\n",
              "      <td>26118</td>\n",
              "      <td>47568</td>\n",
              "      <td>144.0</td>\n",
              "      <td>3</td>\n",
              "      <td>1</td>\n",
              "      <td>0</td>\n",
              "    </tr>\n",
              "    <tr>\n",
              "      <th>1996</th>\n",
              "      <td>1997</td>\n",
              "      <td>1</td>\n",
              "      <td>11.77</td>\n",
              "      <td>1.00</td>\n",
              "      <td>24</td>\n",
              "      <td>45</td>\n",
              "      <td>1</td>\n",
              "      <td>1.0</td>\n",
              "      <td>1</td>\n",
              "      <td>2572</td>\n",
              "      <td>8063</td>\n",
              "      <td>NaN</td>\n",
              "      <td>3</td>\n",
              "      <td>1</td>\n",
              "      <td>1</td>\n",
              "    </tr>\n",
              "    <tr>\n",
              "      <th>1997</th>\n",
              "      <td>1998</td>\n",
              "      <td>1</td>\n",
              "      <td>16.91</td>\n",
              "      <td>0.22</td>\n",
              "      <td>18</td>\n",
              "      <td>42</td>\n",
              "      <td>0</td>\n",
              "      <td>NaN</td>\n",
              "      <td>0</td>\n",
              "      <td>14933</td>\n",
              "      <td>24753</td>\n",
              "      <td>NaN</td>\n",
              "      <td>2</td>\n",
              "      <td>1</td>\n",
              "      <td>1</td>\n",
              "    </tr>\n",
              "    <tr>\n",
              "      <th>1998</th>\n",
              "      <td>1999</td>\n",
              "      <td>0</td>\n",
              "      <td>11.15</td>\n",
              "      <td>0.72</td>\n",
              "      <td>46</td>\n",
              "      <td>45</td>\n",
              "      <td>1</td>\n",
              "      <td>NaN</td>\n",
              "      <td>1</td>\n",
              "      <td>18157</td>\n",
              "      <td>15275</td>\n",
              "      <td>253.0</td>\n",
              "      <td>3</td>\n",
              "      <td>0</td>\n",
              "      <td>1</td>\n",
              "    </tr>\n",
              "    <tr>\n",
              "      <th>1999</th>\n",
              "      <td>2000</td>\n",
              "      <td>1</td>\n",
              "      <td>11.36</td>\n",
              "      <td>0.09</td>\n",
              "      <td>41</td>\n",
              "      <td>45</td>\n",
              "      <td>0</td>\n",
              "      <td>NaN</td>\n",
              "      <td>0</td>\n",
              "      <td>20729</td>\n",
              "      <td>30463</td>\n",
              "      <td>230.0</td>\n",
              "      <td>1</td>\n",
              "      <td>1</td>\n",
              "      <td>0</td>\n",
              "    </tr>\n",
              "  </tbody>\n",
              "</table>\n",
              "<p>2000 rows × 15 columns</p>\n",
              "</div>"
            ],
            "text/plain": [
              "      Patient_Number  ...  Adrenal_and_thyroid_disorders\n",
              "0                  1  ...                              1\n",
              "1                  2  ...                              0\n",
              "2                  3  ...                              0\n",
              "3                  4  ...                              0\n",
              "4                  5  ...                              0\n",
              "...              ...  ...                            ...\n",
              "1995            1996  ...                              0\n",
              "1996            1997  ...                              1\n",
              "1997            1998  ...                              1\n",
              "1998            1999  ...                              1\n",
              "1999            2000  ...                              0\n",
              "\n",
              "[2000 rows x 15 columns]"
            ]
          },
          "metadata": {
            "tags": []
          },
          "execution_count": 3
        }
      ]
    },
    {
      "cell_type": "code",
      "metadata": {
        "id": "lDLXp-sjM3ne",
        "outputId": "ca400ca5-ccf7-4403-8f6e-436de9940449",
        "colab": {
          "base_uri": "https://localhost:8080/"
        }
      },
      "source": [
        "data.isnull().sum()"
      ],
      "execution_count": 4,
      "outputs": [
        {
          "output_type": "execute_result",
          "data": {
            "text/plain": [
              "Patient_Number                      0\n",
              "Blood_Pressure_Abnormality          0\n",
              "Level_of_Hemoglobin                 0\n",
              "Genetic_Pedigree_Coefficient       92\n",
              "Age                                 0\n",
              "BMI                                 0\n",
              "Sex                                 0\n",
              "Pregnancy                        1558\n",
              "Smoking                             0\n",
              "Physical_activity                   0\n",
              "salt_content_in_the_diet            0\n",
              "alcohol_consumption_per_day       242\n",
              "Level_of_Stress                     0\n",
              "Chronic_kidney_disease              0\n",
              "Adrenal_and_thyroid_disorders       0\n",
              "dtype: int64"
            ]
          },
          "metadata": {
            "tags": []
          },
          "execution_count": 4
        }
      ]
    },
    {
      "cell_type": "code",
      "metadata": {
        "id": "wevK1VgfNQ7v"
      },
      "source": [
        "data=data.drop(['Pregnancy','Patient_Number'],axis=1)"
      ],
      "execution_count": 5,
      "outputs": []
    },
    {
      "cell_type": "code",
      "metadata": {
        "id": "yORhAgbsNdvg"
      },
      "source": [
        "data['Genetic_Pedigree_Coefficient']=data['Genetic_Pedigree_Coefficient'].fillna(data['Genetic_Pedigree_Coefficient'].mean())"
      ],
      "execution_count": 6,
      "outputs": []
    },
    {
      "cell_type": "code",
      "metadata": {
        "id": "8krlolZsNo_P"
      },
      "source": [
        "data['alcohol_consumption_per_day']=data['alcohol_consumption_per_day'].fillna(data['alcohol_consumption_per_day'].mean())"
      ],
      "execution_count": 7,
      "outputs": []
    },
    {
      "cell_type": "code",
      "metadata": {
        "id": "qsol3PhcNzcj",
        "outputId": "8632a591-0253-425c-b252-187aade0b114",
        "colab": {
          "base_uri": "https://localhost:8080/"
        }
      },
      "source": [
        "data.isnull().sum()"
      ],
      "execution_count": 8,
      "outputs": [
        {
          "output_type": "execute_result",
          "data": {
            "text/plain": [
              "Blood_Pressure_Abnormality       0\n",
              "Level_of_Hemoglobin              0\n",
              "Genetic_Pedigree_Coefficient     0\n",
              "Age                              0\n",
              "BMI                              0\n",
              "Sex                              0\n",
              "Smoking                          0\n",
              "Physical_activity                0\n",
              "salt_content_in_the_diet         0\n",
              "alcohol_consumption_per_day      0\n",
              "Level_of_Stress                  0\n",
              "Chronic_kidney_disease           0\n",
              "Adrenal_and_thyroid_disorders    0\n",
              "dtype: int64"
            ]
          },
          "metadata": {
            "tags": []
          },
          "execution_count": 8
        }
      ]
    },
    {
      "cell_type": "code",
      "metadata": {
        "id": "Pj9E_ifQN9db"
      },
      "source": [
        "data_x=data.iloc[:,1:]\n",
        "data_y=data.iloc[:,0]"
      ],
      "execution_count": 9,
      "outputs": []
    },
    {
      "cell_type": "code",
      "metadata": {
        "id": "UdDFl3xgOz_R"
      },
      "source": [
        "# Data Sampling\n",
        "from sklearn.model_selection import train_test_split"
      ],
      "execution_count": 10,
      "outputs": []
    },
    {
      "cell_type": "code",
      "metadata": {
        "id": "6n3AS3F3Pq_y"
      },
      "source": [
        "data_x_train, data_x_test, data_y_train, data_y_test = train_test_split(data_x, data_y, test_size = .2) "
      ],
      "execution_count": 11,
      "outputs": []
    },
    {
      "cell_type": "code",
      "metadata": {
        "id": "jO7nnhV0PuP4",
        "outputId": "436be9c3-c921-4fb6-b9d8-5f804aed14f6",
        "colab": {
          "base_uri": "https://localhost:8080/"
        }
      },
      "source": [
        "from sklearn.ensemble import RandomForestClassifier \n",
        "reg_data = RandomForestClassifier(n_estimators= 250) \n",
        "\n",
        "reg_data.fit(data_x_train, data_y_train) # train model\n",
        "\n",
        "# pred_train = reg_data.predict(data_x_train)\n",
        "pred_test = reg_data.predict(data_x_test)\n",
        "pred_test"
      ],
      "execution_count": 12,
      "outputs": [
        {
          "output_type": "execute_result",
          "data": {
            "text/plain": [
              "array([1, 0, 0, 1, 1, 0, 1, 1, 1, 0, 0, 1, 1, 1, 0, 0, 1, 1, 0, 1, 1, 0,\n",
              "       1, 1, 1, 0, 1, 1, 0, 1, 0, 0, 0, 0, 1, 1, 0, 1, 1, 0, 1, 1, 0, 1,\n",
              "       0, 1, 1, 1, 0, 0, 0, 0, 0, 0, 1, 1, 0, 1, 1, 0, 0, 0, 1, 0, 0, 1,\n",
              "       0, 0, 1, 1, 0, 1, 1, 1, 0, 1, 1, 0, 0, 0, 0, 1, 0, 0, 0, 0, 1, 1,\n",
              "       1, 0, 0, 1, 0, 1, 0, 0, 1, 0, 0, 0, 0, 0, 0, 0, 1, 0, 1, 0, 0, 1,\n",
              "       1, 0, 0, 0, 0, 0, 0, 0, 0, 0, 0, 1, 0, 0, 1, 0, 0, 1, 1, 0, 0, 0,\n",
              "       0, 0, 0, 0, 1, 1, 0, 0, 0, 1, 0, 0, 0, 0, 0, 0, 1, 1, 1, 1, 1, 0,\n",
              "       1, 1, 0, 1, 0, 0, 1, 1, 1, 0, 1, 0, 0, 0, 1, 1, 1, 1, 1, 1, 0, 1,\n",
              "       0, 0, 0, 1, 0, 1, 0, 1, 1, 0, 0, 0, 0, 1, 0, 0, 0, 0, 1, 0, 1, 1,\n",
              "       0, 1, 1, 0, 1, 1, 0, 0, 1, 0, 1, 1, 1, 0, 0, 1, 0, 0, 1, 0, 1, 1,\n",
              "       1, 1, 1, 0, 0, 1, 0, 0, 1, 1, 1, 0, 0, 1, 0, 0, 0, 0, 1, 1, 1, 1,\n",
              "       0, 1, 0, 0, 1, 0, 0, 1, 1, 0, 1, 1, 0, 1, 0, 0, 1, 0, 1, 1, 0, 0,\n",
              "       0, 1, 1, 1, 1, 0, 0, 0, 0, 0, 1, 1, 1, 1, 1, 0, 1, 0, 0, 1, 0, 1,\n",
              "       0, 1, 1, 1, 1, 0, 0, 1, 0, 0, 0, 1, 0, 0, 0, 1, 1, 1, 0, 0, 0, 0,\n",
              "       1, 1, 0, 1, 1, 0, 1, 0, 1, 1, 0, 1, 0, 0, 1, 0, 1, 1, 0, 0, 0, 1,\n",
              "       0, 1, 0, 0, 1, 1, 0, 0, 1, 0, 1, 1, 1, 0, 0, 1, 0, 0, 1, 0, 1, 1,\n",
              "       1, 1, 1, 1, 1, 0, 1, 1, 1, 1, 1, 0, 1, 0, 1, 1, 1, 0, 1, 0, 1, 0,\n",
              "       0, 1, 1, 0, 1, 0, 0, 1, 0, 1, 0, 1, 1, 1, 1, 0, 0, 1, 1, 0, 0, 1,\n",
              "       0, 1, 1, 1])"
            ]
          },
          "metadata": {
            "tags": []
          },
          "execution_count": 12
        }
      ]
    },
    {
      "cell_type": "code",
      "metadata": {
        "id": "jEji-3gbQvqK",
        "outputId": "5f0f503c-06d2-4410-f93c-848c37ae8985",
        "colab": {
          "base_uri": "https://localhost:8080/"
        }
      },
      "source": [
        "from sklearn.metrics import confusion_matrix\n",
        "con=confusion_matrix(data_y_test,pred_test)\n",
        "con"
      ],
      "execution_count": 13,
      "outputs": [
        {
          "output_type": "execute_result",
          "data": {
            "text/plain": [
              "array([[185,  22],\n",
              "       [ 19, 174]])"
            ]
          },
          "metadata": {
            "tags": []
          },
          "execution_count": 13
        }
      ]
    },
    {
      "cell_type": "code",
      "metadata": {
        "id": "tgDcJ0euSalB",
        "outputId": "081fddc6-89e5-4753-85b9-08a339141c2d",
        "colab": {
          "base_uri": "https://localhost:8080/"
        }
      },
      "source": [
        "con.diagonal().sum()/con.sum()*100 # Accuracy"
      ],
      "execution_count": 14,
      "outputs": [
        {
          "output_type": "execute_result",
          "data": {
            "text/plain": [
              "89.75"
            ]
          },
          "metadata": {
            "tags": []
          },
          "execution_count": 14
        }
      ]
    },
    {
      "cell_type": "code",
      "metadata": {
        "id": "w0KQrSf3S_06"
      },
      "source": [
        "import collections \n",
        "val=collections.Counter(pred_test)"
      ],
      "execution_count": 15,
      "outputs": []
    },
    {
      "cell_type": "code",
      "metadata": {
        "id": "v42OtoYETNKk",
        "outputId": "d6fc0afd-7f49-49bc-eedb-35df28d6e814",
        "colab": {
          "base_uri": "https://localhost:8080/",
          "height": 282
        }
      },
      "source": [
        "import matplotlib.pyplot as plt\n",
        "plt.bar(['N-blood presser','blood presser'],[val[0],val[1]],color='r',width=0.4)"
      ],
      "execution_count": 20,
      "outputs": [
        {
          "output_type": "execute_result",
          "data": {
            "text/plain": [
              "<BarContainer object of 2 artists>"
            ]
          },
          "metadata": {
            "tags": []
          },
          "execution_count": 20
        },
        {
          "output_type": "display_data",
          "data": {
            "image/png": "[encoded data removed]",
            "text/plain": [
              "<Figure size 432x288 with 1 Axes>"
            ]
          },
          "metadata": {
            "tags": [],
            "needs_background": "light"
          }
        }
      ]
    }
  ]
}